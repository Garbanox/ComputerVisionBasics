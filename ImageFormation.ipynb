{
 "cells": [
  {
   "cell_type": "markdown",
   "metadata": {},
   "source": [
    "# Image Formation\n",
    "In this notebook we are going to cover the theory behind the pinhole camera model, the perspective projection equation and the distortion parameters."
   ]
  },
  {
   "cell_type": "code",
   "execution_count": 10,
   "metadata": {},
   "outputs": [],
   "source": [
    "%matplotlib widget\n",
    "\n",
    "from ipywidgets import interact, FloatSlider, Checkbox\n",
    "import ipywidgets as widgets\n",
    "\n",
    "import numpy as np\n",
    "\n",
    "import matplotlib.pyplot as plt\n",
    "import matplotlib as mpl\n",
    "\n",
    "from matplotlib.patches import Ellipse, Polygon, Arc\n",
    "import matplotlib.lines as lines\n",
    "import matplotlib.patches as mpatches\n",
    "from matplotlib.collections import PolyCollection"
   ]
  },
  {
   "cell_type": "markdown",
   "metadata": {},
   "source": [
    "## Thin Lens Equation"
   ]
  },
  {
   "cell_type": "code",
   "execution_count": 2,
   "metadata": {},
   "outputs": [],
   "source": [
    "class LensSchema:\n",
    "    def __init__(self, title):\n",
    "        self.max_A = 10; self.max_Z = 50; self.max_f = 5.0\n",
    "        self.min_A = 5; self.min_Z = 10; self.min_f = 1.0\n",
    "        \n",
    "        self.neg_x_lim = self.min_Z*self.max_f/(self.min_Z-self.max_f)\n",
    "    \n",
    "        self.fig = plt.figure(figsize=(9.5,3.5))\n",
    "        self.fig.tight_layout()\n",
    "        self.fig.canvas.toolbar_visible = False\n",
    "        self.fig.canvas.header_visible = False\n",
    "        self.fig.canvas.footer_visible = False\n",
    "        \n",
    "        self.ax = self.fig.gca()\n",
    "        self.ax.set_title(title)\n",
    "        self.ax.set_xlim([-self.neg_x_lim, self.max_Z])\n",
    "        self.ax.set_ylim([-self.max_A, self.max_A])\n",
    "        self.ax.set_aspect('equal')\n",
    "        # Coodinate system is a bit weird since z should point to the right: (z,x)\n",
    "        self.ax.set_xlabel('z') \n",
    "        self.ax.set_ylabel('x')\n",
    "        \n",
    "        self.ax.grid(True)\n",
    "        \n",
    "        self.ax.add_artist(Ellipse((0, 0), 1, 2*self.max_A, color='b', alpha=0.2))\n",
    "\n",
    "        self.house, = self.ax.plot([], [], color='r')\n",
    "        \n",
    "    def draw_house(self, Z, A):\n",
    "        self.house.set_data([Z-A/3, Z+A/3, Z-A/3, Z+A/3, Z, Z-A/3, Z-A/3, Z+A/3, Z+A/3], \n",
    "                            [0, 0, A*2/3, A*2/3, A, A*2/3, 0, A*2/3, 0])\n",
    "\n",
    "    def clear_house(self, index):\n",
    "        self.houses[index].set_data([],[])\n",
    "\n",
    "class ThinLensSchema(LensSchema):\n",
    "    \"\"\"\n",
    "    This class is used throughout this notebook for visualizing formulas for the thin lens\n",
    "    \"\"\"\n",
    "    \n",
    "    def __init__(self, title=\"Thin Lens Equation\"):\n",
    "        super().__init__(title)        \n",
    "        \n",
    "        self.characteristic_ray_center, = self.ax.plot([], [], color='g')\n",
    "        self.characteristic_ray_focus, = self.ax.plot([], [], color='g')\n",
    "        \n",
    "        self.focal_length = self.max_f\n",
    "        self.sensor_distance = self.focal_length\n",
    "        \n",
    "        self.focal_point, = self.ax.plot([], [], 'ko')\n",
    "        self.aperture_top, = self.ax.plot([], [], color='k', linewidth=3)\n",
    "        self.aperture_bot, = self.ax.plot([], [], color='k', linewidth=3)\n",
    "        self.ray_bundle = self.ax.add_collection(PolyCollection([], closed=True, alpha=0.2, color='y'));\n",
    "        self.sensor, = self.ax.plot([], [], color='k', linewidth=3)\n",
    "        \n",
    "        self.thin_lens_deriv_1, = self.ax.plot([], [], color='y', linestyle='dashed', linewidth=2)\n",
    "        self.thin_lens_deriv_2, = self.ax.plot([], [], color='m', linestyle='dotted', linewidth=2)\n",
    "        self.blur_circle_deriv, = self.ax.plot([], [], color='m', linestyle='dotted', linewidth=2)\n",
    "    \n",
    "    def set_sensor_distance(self, e):\n",
    "        self.sensor.set_data([-e, -e], [-5, 5])\n",
    "        self.sensor_distance = e\n",
    "        \n",
    "    def set_focal_length(self, f):\n",
    "        self.focal_point.set_data([-f],[0])\n",
    "        self.focal_length = f\n",
    "    \n",
    "    def focus(self, distance):\n",
    "        Z = distance\n",
    "        f = self.focal_length\n",
    "        self.set_sensor_distance(Z*f/(Z-f)) # Thin lens equation   \n",
    "           \n",
    "    def draw_characteristic_rays(self, Z, A):\n",
    "        f = self.focal_length\n",
    "        e = Z*f/(Z-f) # The true focused distance\n",
    "        self.characteristic_ray_center.set_data([Z, 0, -self.neg_x_lim], [A, A, A-self.neg_x_lim*A/f])\n",
    "        self.characteristic_ray_focus.set_data([Z, -self.neg_x_lim], [A, A-(Z+self.neg_x_lim)*A/Z])\n",
    "    \n",
    "    def clear_characteristic_rays(self):\n",
    "        self.characteristic_ray_center.set_data([], []) \n",
    "        self.characteristic_ray_focus.set_data([], []) \n",
    "    \n",
    "    def draw_ray_bundle(self, Z, A, L):\n",
    "        self.aperture_top.set_data([0, 0], [L/2, self.max_A])\n",
    "        self.aperture_bot.set_data([0, 0], [-L/2, -self.max_A])\n",
    "        f = self.focal_length\n",
    "        e_true = Z*f/(Z-f) # true focused distance = horizontal poisiton of focus point\n",
    "        a_true = -A/Z*e_true# vertical position of focus point\n",
    "        e = self.sensor_distance\n",
    "   \n",
    "        self.ray_bundle.set_verts(np.array([[[Z, A], [0, L/2], [-e, L/2-e*(L/2-a_true)/e_true], \n",
    "                                             [-e, -L/2-e*(-L/2-a_true)/e_true],[0, -L/2], [Z, A]]]))\n",
    "    \n",
    "    def draw_blur_circle_derivation(self, Z, A, L):\n",
    "        f = self.focal_length\n",
    "        e_true = Z*f/(Z-f) # true focused distance = horizontal poisiton of focus point\n",
    "        a_true = -A/Z*e_true# vertical position of focus point\n",
    "        e = self.sensor_distance\n",
    "        \n",
    "        if e_true < e:   \n",
    "            # Double triangle\n",
    "            self.blur_circle_deriv.set_data([0, -e, -e, 0, 0], \n",
    "                                            [L/2, L/2-e*(L/2-a_true)/e_true, -e*A/Z, 0, L/2])\n",
    "        else:\n",
    "            # Single triangle\n",
    "            self.blur_circle_deriv.set_data([-e, -e, -e_true, 0, 0, -e], \n",
    "                                            [-e*A/Z, L/2-e*(L/2-a_true)/e_true, a_true, 0, L/2, L/2-e*(L/2-a_true)/e_true])\n",
    "        \n",
    "    def draw_thin_lens_equation_derivation(self, Z, A):\n",
    "        self.focus(Z)\n",
    "        self.draw_characteristic_rays(Z, A)\n",
    "        e = self.sensor_distance\n",
    "        self.thin_lens_deriv_1.set_data([Z, Z, -e, -e, Z], [A, 0, 0, -e*A/Z, A])\n",
    "        self.thin_lens_deriv_2.set_data([0, 0, -e, -e, 0], [A, 0, 0, -e*A/Z, A])"
   ]
  },
  {
   "cell_type": "markdown",
   "metadata": {},
   "source": [
    "### Thin Lens\n",
    "A thin lens is characterized by two properties:\n",
    " * Rays that enter parallel to the axis on one side are deflected so that they pass through the focus point on the other side (and reciprocal)\n",
    " * Rays that pass through the center of the lens are not not deflected\n",
    "\n",
    "An object point is in focus if these two rays intersect in the image plane, i.e. at the sensor."
   ]
  },
  {
   "cell_type": "code",
   "execution_count": 3,
   "metadata": {},
   "outputs": [
    {
     "data": {
      "application/vnd.jupyter.widget-view+json": {
       "model_id": "974228560b4f4dec8cc07438926343f9",
       "version_major": 2,
       "version_minor": 0
      },
      "text/plain": [
       "Canvas(toolbar=Toolbar(toolitems=[('Home', 'Reset original view', 'home', 'home'), ('Back', 'Back to previous …"
      ]
     },
     "metadata": {},
     "output_type": "display_data"
    },
    {
     "data": {
      "application/vnd.jupyter.widget-view+json": {
       "model_id": "21dfb6e223be427487dbbb4329f18e24",
       "version_major": 2,
       "version_minor": 0
      },
      "text/plain": [
       "interactive(children=(FloatSlider(value=5.0, description='Object height, A:', layout=Layout(width='50%'), max=…"
      ]
     },
     "metadata": {},
     "output_type": "display_data"
    }
   ],
   "source": [
    "thin_lens_schema_1  = ThinLensSchema(\"Thin Lens Rays\")\n",
    "\n",
    "def plot_thin_lens_schema_1(A, Z, f, e):\n",
    "    thin_lens_schema_1.set_focal_length(f)\n",
    "    thin_lens_schema_1.set_sensor_distance(e)\n",
    "    thin_lens_schema_1.draw_house(Z, A)\n",
    "    thin_lens_schema_1.draw_characteristic_rays(Z, A)\n",
    "\n",
    "style = {'description_width': '50%'}\n",
    "interact(plot_thin_lens_schema_1, \n",
    "         A=FloatSlider(5, description='Object height, A:', layout={'width': '50%'}, style=style,\n",
    "                       min=thin_lens_schema_1.min_A, max=thin_lens_schema_1.max_A), \n",
    "         Z=FloatSlider(10, description='Object distance, Z:', layout={'width': '50%'}, style=style,\n",
    "                       min=thin_lens_schema_1.min_Z, max=thin_lens_schema_1.max_Z), \n",
    "         f=FloatSlider(5,  description='Focal length, f:', layout={'width': '50%'}, style=style,\n",
    "                       min=thin_lens_schema_1.min_f, max=thin_lens_schema_1.max_f),\n",
    "         e=FloatSlider(5,  description='Sensor to optical center, e:', layout={'width': '50%'}, style=style,\n",
    "                       min=2*thin_lens_schema_1.min_f, max=2*thin_lens_schema_1.max_f));"
   ]
  },
  {
   "cell_type": "markdown",
   "metadata": {},
   "source": [
    "### Derivation of the Thin Lens Equation\n",
    "The thin lens equation relates f, Z, and e so that points at distance Z are in focus. We denote the object height by A and the position of the projection by a. By using similar triangles (see figure below) we get:\n",
    " * Yellow dashed triangles: $ \\frac{a}{A}=\\frac{e}{Z}$\n",
    " * Red dotted triangles: $ \\frac{a}{A}=\\frac{e-f}{f}=\\frac{e}{f}-1$ \n",
    " \n",
    "Combining both equations yiels the thin lens equation\n",
    "$$ \\frac{1}{f}=\\frac{1}{Z}+\\frac{1}{e} $$"
   ]
  },
  {
   "cell_type": "code",
   "execution_count": 4,
   "metadata": {},
   "outputs": [
    {
     "data": {
      "application/vnd.jupyter.widget-view+json": {
       "model_id": "516ac52c388a4cd88238091713f9a593",
       "version_major": 2,
       "version_minor": 0
      },
      "text/plain": [
       "Canvas(toolbar=Toolbar(toolitems=[('Home', 'Reset original view', 'home', 'home'), ('Back', 'Back to previous …"
      ]
     },
     "metadata": {},
     "output_type": "display_data"
    }
   ],
   "source": [
    "nominal_Z = 15; nominal_f = 5; nominal_A = 7.5;\n",
    "thin_lens_derivation_schema  = ThinLensSchema(\"Thin Lens Equation Derivation\")\n",
    "thin_lens_derivation_schema.set_focal_length(nominal_f)\n",
    "thin_lens_derivation_schema.draw_house(nominal_Z, nominal_A)\n",
    "thin_lens_derivation_schema.draw_thin_lens_equation_derivation(nominal_Z, nominal_A)"
   ]
  },
  {
   "cell_type": "markdown",
   "metadata": {},
   "source": [
    "\n",
    "## Aperture & Blur Circle\n",
    "The aperture controls how much light can enter the camera and also controls the depth of field, i.e. the range around the focused distance that is sharp. In the following figure the tip of house is in focused (as above) but we are interested in the upper left corner of the house. The green lines are the rays through the lens center and focus point. We see that they intersect in front of the sensor which means that the corner is not in focus. All other rays will also pass through this (virtual) intersection. The yellow region is the collection of all rays that pass through the aperture. One can see how changing the aperture influences the size of the projection of the corner (i.e. the blur circle)."
   ]
  },
  {
   "cell_type": "code",
   "execution_count": 5,
   "metadata": {},
   "outputs": [
    {
     "data": {
      "application/vnd.jupyter.widget-view+json": {
       "model_id": "4407423f2b534678ae1b15f641499379",
       "version_major": 2,
       "version_minor": 0
      },
      "text/plain": [
       "Canvas(toolbar=Toolbar(toolitems=[('Home', 'Reset original view', 'home', 'home'), ('Back', 'Back to previous …"
      ]
     },
     "metadata": {},
     "output_type": "display_data"
    },
    {
     "data": {
      "application/vnd.jupyter.widget-view+json": {
       "model_id": "2fbc246dfc204d849495799b69cac8a6",
       "version_major": 2,
       "version_minor": 0
      },
      "text/plain": [
       "interactive(children=(FloatSlider(value=5.0, description='Aperture diameter, L:', layout=Layout(width='50%'), …"
      ]
     },
     "metadata": {},
     "output_type": "display_data"
    }
   ],
   "source": [
    "aperture_schema  = ThinLensSchema(\"Effect of Aperture\")\n",
    "\n",
    "def plot_aperture_schema(L, show_rays):\n",
    "    aperture_schema.set_focal_length(nominal_f)\n",
    "    aperture_schema.focus(nominal_Z)\n",
    "    aperture_schema.draw_house(nominal_Z, nominal_A)\n",
    "    if show_rays:\n",
    "        aperture_schema.draw_characteristic_rays(nominal_Z-nominal_A/3, 2/3*nominal_A)\n",
    "    else:\n",
    "        aperture_schema.clear_characteristic_rays()\n",
    "    aperture_schema.draw_ray_bundle(nominal_Z-nominal_A/3, 2/3*nominal_A, L)\n",
    "    \n",
    "interact(plot_aperture_schema, \n",
    "         L=FloatSlider(5, description='Aperture diameter, L:', layout={'width': '50%'}, style=style, min=0, max=20),\n",
    "         show_rays=Checkbox(value=True, description='Show rays', style=style));"
   ]
  },
  {
   "cell_type": "markdown",
   "metadata": {},
   "source": [
    "### Blur Circle Formula\n",
    "We denote the horizontal distance between the image plane and the intersection point as $\\delta$ and the radius of the blur circle by R. By using similar triangles (see below) again we obtain: $ \\frac{0.5 L}{e}=\\frac{R}{\\delta}$. The radius of the blur circle is therefore\n",
    "$$ R = \\frac{L\\delta}{2e} $$"
   ]
  },
  {
   "cell_type": "code",
   "execution_count": 6,
   "metadata": {},
   "outputs": [
    {
     "data": {
      "application/vnd.jupyter.widget-view+json": {
       "model_id": "fbf42091ffdc41478aea5c26a8022841",
       "version_major": 2,
       "version_minor": 0
      },
      "text/plain": [
       "Canvas(toolbar=Toolbar(toolitems=[('Home', 'Reset original view', 'home', 'home'), ('Back', 'Back to previous …"
      ]
     },
     "metadata": {},
     "output_type": "display_data"
    }
   ],
   "source": [
    "blur_circle_derivation_schema  = ThinLensSchema(\"Blur Circle Derivation\")\n",
    "blur_circle_derivation_schema.set_focal_length(nominal_f)\n",
    "blur_circle_derivation_schema.set_sensor_distance(6)\n",
    "blur_circle_derivation_schema.draw_house(nominal_Z, nominal_A)\n",
    "blur_circle_derivation_schema.draw_characteristic_rays(nominal_Z-nominal_A/3, 2/3*nominal_A)\n",
    "blur_circle_derivation_schema.draw_ray_bundle(nominal_Z-nominal_A/3, 2/3*nominal_A, 15)\n",
    "blur_circle_derivation_schema.draw_blur_circle_derivation(nominal_Z-nominal_A/3, 2/3*nominal_A, 15)"
   ]
  },
  {
   "cell_type": "markdown",
   "metadata": {},
   "source": [
    "## From the Thin Lens Equation to the Pinhole Camera Model\n",
    "The object distance Z is much larger than the focal length in most applications ($Z\\approx 1m, f\\approx 1cm$). The thin lens equation becomes: $\\frac{1}{e}=\\frac{1}{f}-\\frac{1}{Z}\\approx\\frac{1}{f}$. Thus\n",
    "$$e\\approx f$$ \n",
    "Furthermore, we ignore all effects related to blur and depth of field and assume that all points are in focus. The projection of an object point is therefore uniquely defined by the sensor at distance f and the ray passing through the center of the lens. This is equivalent of having a camera with an infinitely small aperture, a pinhole camera."
   ]
  },
  {
   "cell_type": "code",
   "execution_count": 7,
   "metadata": {},
   "outputs": [],
   "source": [
    "class PinholeSchema(LensSchema):\n",
    "    def __init__(self, title=\"Pinhole Camera\"):\n",
    "        super().__init__(title)\n",
    "        \n",
    "        self.optical_center, = self.ax.plot([0], [0], 'bo')\n",
    "        self.focus_point, = self.ax.plot([],[], 'ko')\n",
    "        self.principal_point, = self.ax.plot([],[],'ko')\n",
    "        \n",
    "        self.image_plane, = self.ax.plot([], [], color='gray', linewidth=2)\n",
    "        self.sensor, = self.ax.plot([], [], color='k', linewidth=3)\n",
    "        \n",
    "        self.sensor_size = 10;\n",
    "        \n",
    "        self.focal_length = self.max_f\n",
    "        \n",
    "        self.ray, = self.ax.plot([], [], color='g')\n",
    "        self.fov_ray_1, = self.ax.plot([], [], color='r')\n",
    "        self.fov_ray_2, = self.ax.plot([], [], color='r')\n",
    "        self.fov_angle = self.ax.add_patch(Arc((0,0), 0, 0))\n",
    "        \n",
    "        \n",
    "    def set_focal_length(self, f):\n",
    "        self.focal_length = f\n",
    "        \n",
    "    def set_sensor_size(self, size):\n",
    "        self.sensor_size = size\n",
    "    \n",
    "    def draw_sensor(self):\n",
    "        f = self.focal_length\n",
    "        self.focus_point.set_data([-f],[0])\n",
    "        self.sensor.set_data([-f, -f],[self.sensor_size/2, -self.sensor_size/2])\n",
    "        \n",
    "    def clear_sensor(self):\n",
    "        self.focus_point.set_data([],[])\n",
    "        self.sensor.set_data([],[])\n",
    "        \n",
    "    def draw_image_plane(self):\n",
    "        f = self.focal_length\n",
    "        self.principal_point.set_data([f],[0])\n",
    "        self.image_plane.set_data([f, f],[self.sensor_size/2, -self.sensor_size/2])\n",
    "        \n",
    "    def clear_image_plane(self):\n",
    "        self.principal_point.set_data([],[])\n",
    "        self.image_plane.set_data([],[])\n",
    "        \n",
    "    def draw_ray(self, Z_c, X_c, to=\"\"):\n",
    "        f = self.focal_length\n",
    "        if to == \"image plane\":\n",
    "            self.ray.set_data([Z_c, 0], [X_c, 0])\n",
    "        elif to == \"sensor\":\n",
    "            self.ray.set_data([Z_c, -f], [X_c, -f*X_c/Z_c])\n",
    "        else:\n",
    "            self.ray.set_data([Z_c, -self.neg_x_lim], [X_c, -self.neg_x_lim*X_c/Z_c])\n",
    "    \n",
    "    def clear_ray(self):\n",
    "        self.ray.set_data([],[])\n",
    "        \n",
    "    def draw_field_of_view(self):\n",
    "        theta = 2*np.arctan(self.sensor_size/(2*self.focal_length))\n",
    "        self.fov_ray_1.set_data([0, self.max_Z], [0, np.tan(theta/2)*self.max_Z])\n",
    "        self.fov_ray_2.set_data([0, self.max_Z], [0, -np.tan(theta/2)*self.max_Z])\n",
    "        self.fov_angle.width = self.fov_angle.height = self.focal_length\n",
    "        self.fov_angle.theta1 = -180/np.pi * theta /2\n",
    "        self.fov_angle.theta2 = 180/np.pi * theta /2    "
   ]
  },
  {
   "cell_type": "markdown",
   "metadata": {},
   "source": [
    "It is often more convenient to draw the image plane in front of the sensor so that the coordinates are not flipped. The projection of a point $(X_C, Z_C)$ in camera coordinates to the image plane is given by the following equation (using similar triangles again):\n",
    "$$ x = f\\frac{X_C}{Z_C} $$ "
   ]
  },
  {
   "cell_type": "code",
   "execution_count": 8,
   "metadata": {},
   "outputs": [
    {
     "data": {
      "application/vnd.jupyter.widget-view+json": {
       "model_id": "b5229380e8f343eba7ed45d348c41bc7",
       "version_major": 2,
       "version_minor": 0
      },
      "text/plain": [
       "Canvas(toolbar=Toolbar(toolitems=[('Home', 'Reset original view', 'home', 'home'), ('Back', 'Back to previous …"
      ]
     },
     "metadata": {},
     "output_type": "display_data"
    },
    {
     "data": {
      "application/vnd.jupyter.widget-view+json": {
       "model_id": "95e6f92d81534d19b4b520f5f196f48b",
       "version_major": 2,
       "version_minor": 0
      },
      "text/plain": [
       "interactive(children=(FloatSlider(value=10.0, description='Object distance, Z_C:', layout=Layout(width='50%'),…"
      ]
     },
     "metadata": {},
     "output_type": "display_data"
    }
   ],
   "source": [
    "pinhole_schema_1 = PinholeSchema()\n",
    "\n",
    "def plot_pinhole_schema1(Z, A, f, sensor, image_plane):\n",
    "    pinhole_schema_1.set_focal_length(f)\n",
    "    pinhole_schema_1.draw_house(Z, A)\n",
    "    pinhole_schema_1.draw_ray(Z, A)\n",
    "    \n",
    "    pinhole_schema_1.draw_sensor() if sensor else pinhole_schema_1.clear_sensor()\n",
    "    pinhole_schema_1.draw_image_plane() if image_plane else pinhole_schema_1.clear_image_plane()\n",
    "\n",
    "interact(plot_pinhole_schema1, \n",
    "         A=FloatSlider(5, description='Object height, X_C:', layout={'width': '50%'}, style=style,\n",
    "                       min=pinhole_schema_1.min_A, max=pinhole_schema_1.max_A), \n",
    "         Z=FloatSlider(10, description='Object distance, Z_C:', layout={'width': '50%'}, style=style,\n",
    "                       min=pinhole_schema_1.min_Z, max=pinhole_schema_1.max_Z), \n",
    "         f=FloatSlider(5,  description='Focal length, f:', layout={'width': '50%'}, style=style,\n",
    "                       min=pinhole_schema_1.min_f, max=pinhole_schema_1.max_f),\n",
    "         sensor=Checkbox(value=False, description='Show sensor', style=style),\n",
    "         image_plane=Checkbox(value=True, description='Show image plane', style=style));"
   ]
  },
  {
   "cell_type": "markdown",
   "metadata": {},
   "source": [
    "## Field of View\n",
    "The field of view $\\theta$ of a camera is related to the sensor size $W$ and focal length $f$ by:\n",
    "$$ \\tan{\\frac{\\theta}{2}}=\\frac{W}{2f} $$\n",
    "In photography people often speak of *35mm equivalent focal length* when talking about lenses. The reason for this is that e.g. a 50mm lens gives a smaller field of view (aka. more zoom) when mounted to a camera with a smaller sensor. The reference size is usually a full-frame sensor with size 36mm x 24mm which is equivalent of a 35mm film (for the vintage people out there). Another common sensor size is APS-C (23,7 mm × 15,6mm for Nikon). A well known rule of thumb is the crop factor which means that a 50mm lens on an APS-C sensor is equivalent to a 50mm * 1.5 = 75mm lens on a full-full frame sensor. This factor follows directly from the field of view equation for constant $\\theta$: $\\frac{W}{2f}=\\frac{W\\prime}{2f\\prime} \\Rightarrow f\\prime=f*\\frac{W\\prime}{W}=f*\\frac{36}{23.7}\\approx f*1.5$"
   ]
  },
  {
   "cell_type": "code",
   "execution_count": 9,
   "metadata": {
    "scrolled": false
   },
   "outputs": [
    {
     "data": {
      "application/vnd.jupyter.widget-view+json": {
       "model_id": "1b147ad6583244449e87de81dbaf13a7",
       "version_major": 2,
       "version_minor": 0
      },
      "text/plain": [
       "Canvas(toolbar=Toolbar(toolitems=[('Home', 'Reset original view', 'home', 'home'), ('Back', 'Back to previous …"
      ]
     },
     "metadata": {},
     "output_type": "display_data"
    },
    {
     "data": {
      "application/vnd.jupyter.widget-view+json": {
       "model_id": "a8ef2d4fdb294d97a3dc7f04f81a52e8",
       "version_major": 2,
       "version_minor": 0
      },
      "text/plain": [
       "interactive(children=(FloatSlider(value=5.0, description='Focal length, f:', layout=Layout(width='50%'), max=2…"
      ]
     },
     "metadata": {},
     "output_type": "display_data"
    }
   ],
   "source": [
    "pinhole_fov_schema = PinholeSchema()\n",
    "\n",
    "def plot_fov_schema(f, W):\n",
    "    pinhole_fov_schema.set_focal_length(f)\n",
    "    pinhole_fov_schema.set_sensor_size(W)\n",
    "    pinhole_fov_schema.draw_image_plane()\n",
    "    pinhole_fov_schema.draw_field_of_view()\n",
    "\n",
    "interact(plot_fov_schema,\n",
    "         f=FloatSlider(5,  description='Focal length, f:', layout={'width': '50%'}, style=style,\n",
    "                       min=1, max=20),\n",
    "         W=FloatSlider(5, description='Sensor size, W:', layout={'width': '50%'}, style=style,\n",
    "                       min=1.0, max=15.0));"
   ]
  },
  {
   "cell_type": "markdown",
   "metadata": {},
   "source": [
    "## Camera Matrix & Perspective Projection Equation\n",
    "The following coordinate systems are the standard setup for expressing the perspective projection equation:\n",
    " * World coordinate system $(X_w, Y_w, Z_w)$\n",
    " * Camera coordinate system $(X_c, Y_c, Z_c)$\n",
    " * Image plane coordinates $(x,y)$\n",
    " * Pixel coordinates $(u,v)$\n",
    " * principal point $O$\n",
    " * optical center $C$"
   ]
  },
  {
   "cell_type": "markdown",
   "metadata": {},
   "source": [
    "<img src=\"CoordinateSystems.svg\" width=\"30%\" align=\"center\"/>"
   ]
  },
  {
   "cell_type": "markdown",
   "metadata": {},
   "source": [
    "A point $P_c = (X_c, Y_c, Z_c)$ in camera coordinates is projected to the image plane using the forumula of the pinhole camera in both coordinates.\n",
    "$$ x=f \\frac{X_C}{Z_C}, y=f \\frac{Y_c}{Z_c} $$\n",
    "The principal point has pixel coordinates $(u_0, v_0)$ and is usually in the middle of the sensor. We call $k_u, k_v$ the pixel conversion factors which denote the inverse of the pixel size in directions $u, v$. The focal length expressed in pixels are called $\\alpha_u, \\alpha_v$.\n",
    "$$ u=u_0+k_ux=u_0+k_uf\\frac{X_c}{Z_c}=u_0+\\alpha_u\\frac{X_c}{Z_c} $$\n",
    "$$ v=v_0+k_vy=v_0+k_vf\\frac{Y_c}{Z_c}=v_0+\\alpha_v\\frac{Y_c}{Z_c} $$\n",
    "This can be further rewritten in matrix form using homogeneous coordinates. The resulting matrix $K$ is called **Calibration Matrix** or **Intrinsic Parameter Matrix**.\n",
    "$$ \\lambda \\left( \\begin{array}{r} u \\\\ v \\\\ 1 \\end{array}\\right) = \n",
    "\\left( \\begin{array}{ccc}\\alpha_u & 0 & u_0\\\\ 0 & \\alpha_v & v_0 \\\\ 0 & 0 & 1\\end{array}\\right) \n",
    "\\left( \\begin{array}{c} X_c \\\\ Y_c \\\\ Z_c \\end{array}\\right) = K \\left( \\begin{array}{c} X_c \\\\ Y_c \\\\ Z_c \\end{array}\\right) $$\n",
    "\n",
    "A point in world coordinates has to be first transformed to the camera frame before the above equation can be applied. $R_{cw}, T_{cw}$ are called **extrinsic parameters**.\n",
    "$$ \\left( \\begin{array}{c} X_c \\\\ Y_c \\\\ Z_c \\end{array}\\right) = R_{cw} \\left( \\begin{array}{c} X_w \\\\ Y_w \\\\ Z_w \\end{array}\\right) + T_{cw} = [R_{cw} | T_{cw}] \\left( \\begin{array}{c} X_w \\\\ Y_w \\\\ Z_w \\\\ 1\\end{array}\\right) $$\n",
    "\n",
    "Combining both equations yields the **Perspective Projection Equation**. The matrix $M$ is called **Projection Matrix**.\n",
    "$$ \\lambda \\left( \\begin{array}{r} u \\\\ v \\\\ 1 \\end{array}\\right) = K [R_{cw} | T_{cw}] \\left( \\begin{array}{c} X_c \\\\ Y_c \\\\ Z_c \\\\ 1\\end{array}\\right) = M \\left( \\begin{array}{c} X_w \\\\ Y_w \\\\ Z_w \\\\ 1\\end{array}\\right) $$"
   ]
  },
  {
   "cell_type": "markdown",
   "metadata": {},
   "source": [
    "### Normalized Image Coordinates\n",
    "Normalized image coordinates are useful to associate rays to pixels and thus relate a 2D pixel to a 3D vector.\n",
    "$$ \\left( \\begin{array}{r} \\bar{u} \\\\ \\bar{v}\\\\ 1 \\end{array}\\right) = K^{-1} \\left( \\begin{array}{c} u \\\\ v \\\\ 1 \\end{array}\\right) = \\left( \\begin{array}{c} \\frac{u-u_0}{\\alpha_u} \\\\ \\frac{v-v_0}{\\alpha_v} \\\\ 1 \\end{array}\\right)$$\n",
    "If the distance $Z_c$ associated to a pixel is known, one can calculate the corresponding point as\n",
    "$$ Z_C \\left( \\begin{array}{r} \\bar{u} \\\\ \\bar{v}\\\\ 1 \\end{array}\\right) = \\left( \\begin{array}{c} X_c \\\\ Y_c \\\\ Z_c \\end{array}\\right). $$"
   ]
  },
  {
   "cell_type": "markdown",
   "metadata": {},
   "source": []
  }
 ],
 "metadata": {
  "kernelspec": {
   "display_name": "Python 3",
   "language": "python",
   "name": "python3"
  },
  "language_info": {
   "codemirror_mode": {
    "name": "ipython",
    "version": 3
   },
   "file_extension": ".py",
   "mimetype": "text/x-python",
   "name": "python",
   "nbconvert_exporter": "python",
   "pygments_lexer": "ipython3",
   "version": "3.8.5"
  }
 },
 "nbformat": 4,
 "nbformat_minor": 2
}
