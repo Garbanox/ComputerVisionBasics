{
 "cells": [
  {
   "cell_type": "markdown",
   "metadata": {},
   "source": [
    "# Image Formation\n",
    "In this notebook we are going to cover the theory behind the pinhole camera model, the perspective projection equation and the distortion parameters."
   ]
  },
  {
   "cell_type": "code",
   "execution_count": 1,
   "metadata": {},
   "outputs": [],
   "source": [
    "%matplotlib widget\n",
    "\n",
    "from ipywidgets import interact, FloatSlider, Checkbox\n",
    "import ipywidgets as widgets\n",
    "\n",
    "import numpy as np\n",
    "\n",
    "import matplotlib.pyplot as plt\n",
    "import matplotlib as mpl\n",
    "\n",
    "from matplotlib.patches import Ellipse, Polygon\n",
    "import matplotlib.lines as lines\n",
    "import matplotlib.patches as mpatches\n",
    "from matplotlib.collections import PolyCollection"
   ]
  },
  {
   "cell_type": "markdown",
   "metadata": {},
   "source": [
    "## Pinhole Camera Model\n",
    "### Thin Lens Equation\n",
    "\n"
   ]
  },
  {
   "cell_type": "code",
   "execution_count": 2,
   "metadata": {},
   "outputs": [
    {
     "data": {
      "application/vnd.jupyter.widget-view+json": {
       "model_id": "27ee1906e4344e809da1cfb5063e9952",
       "version_major": 2,
       "version_minor": 0
      },
      "text/plain": [
       "Canvas(toolbar=Toolbar(toolitems=[('Home', 'Reset original view', 'home', 'home'), ('Back', 'Back to previous …"
      ]
     },
     "metadata": {},
     "output_type": "display_data"
    },
    {
     "data": {
      "application/vnd.jupyter.widget-view+json": {
       "model_id": "8fde72b6d3ea413fb1908583833df1f9",
       "version_major": 2,
       "version_minor": 0
      },
      "text/plain": [
       "interactive(children=(FloatSlider(value=5.0, description='A', max=10.0, min=5.0), FloatSlider(value=10.0, desc…"
      ]
     },
     "metadata": {},
     "output_type": "display_data"
    }
   ],
   "source": [
    "class ThinLensSchema:\n",
    "    \"\"\"\n",
    "    This class is used throughout this notebook for visualizing formulas for the thin lens\n",
    "    \"\"\"\n",
    "    \n",
    "    def __init__(self):\n",
    "        self.max_A = 10; self.max_Z = 50; self.max_f = 5.0\n",
    "        self.min_A = 5; self.min_Z = 10; self.min_f = 1.0\n",
    "        \n",
    "        self.neg_x_lim = self.min_Z*self.max_f/(self.min_Z-self.max_f)\n",
    "    \n",
    "        self.fig = plt.figure(figsize=(9.5,4))\n",
    "        self.fig.tight_layout()\n",
    "        self.fig.canvas.toolbar_visible = False\n",
    "        self.fig.canvas.header_visible = False\n",
    "        self.fig.canvas.footer_visible = False\n",
    "        \n",
    "        self.ax = self.fig.gca()\n",
    "        self.ax.set_title(\"Thin Lens Equation\")\n",
    "        self.ax.set_xlim([-self.neg_x_lim, self.max_Z])\n",
    "        self.ax.set_ylim([-self.max_A, self.max_A])\n",
    "        self.ax.set_aspect('equal')\n",
    "        # Coodinate system is a bit weird since z should point to the right: (z,x)\n",
    "        self.ax.set_xlabel('z') \n",
    "        self.ax.set_ylabel('x')\n",
    "        self.ax.grid(True)\n",
    "        \n",
    "        self.focal_length = self.max_f\n",
    "        self.sensor_distance = self.focal_length\n",
    "        \n",
    "        self.ax.add_artist(Ellipse((0, 0), 1, 2*self.max_A, color='b', alpha=0.2))\n",
    "        \n",
    "        self.house, = self.ax.plot([], [], color='r')\n",
    "        self.sensor, = self.ax.plot([], [], color='k', linewidth=3)\n",
    "        self.focal_point, = self.ax.plot([], [], 'ko')\n",
    "        \n",
    "        self.characteristic_ray_center, = self.ax.plot([], [], color='g')\n",
    "        self.characteristic_ray_focus, = self.ax.plot([], [], color='g')\n",
    "        \n",
    "        self.aperture_top, = self.ax.plot([], [], color='k', linewidth=3)\n",
    "        self.aperture_bot, = self.ax.plot([], [], color='k', linewidth=3)\n",
    "        self.ray_bundle = self.ax.add_collection(PolyCollection([], closed=True, alpha=0.2, color='y'));\n",
    "        \n",
    "        self.thin_lens_deriv_1, = self.ax.plot([], [], color='y', linestyle='dashed', linewidth=2)\n",
    "        self.thin_lens_deriv_2, = self.ax.plot([], [], color='m', linestyle='dotted', linewidth=2)\n",
    "        self.blur_circle_deriv, = self.ax.plot([], [], color='m', linestyle='dotted', linewidth=2)\n",
    "    \n",
    "    def focus(self, distance):\n",
    "        Z = distance\n",
    "        f = self.focal_length\n",
    "        self.set_sensor_distance(Z*f/(Z-f)) # Thin lens equation\n",
    "    \n",
    "    def set_sensor_distance(self, e):\n",
    "        self.sensor.set_data([-e, -e], [-5, 5])\n",
    "        self.sensor_distance = e\n",
    "        \n",
    "    def set_focal_length(self, f):\n",
    "        self.focal_point.set_data([-f],[0])\n",
    "        self.focal_length = f\n",
    "    \n",
    "    def draw_house(self, Z, A):\n",
    "        self.house.set_data([Z-A/3, Z+A/3, Z-A/3, Z+A/3, Z, Z-A/3, Z-A/3, Z+A/3, Z+A/3], \n",
    "                            [0, 0, A*2/3, A*2/3, A, A*2/3, 0, A*2/3, 0])\n",
    "\n",
    "    def clear_house(self, index):\n",
    "        self.houses[index].set_data([],[])\n",
    "    \n",
    "    def draw_characteristic_rays(self, Z, A):\n",
    "        f = self.focal_length\n",
    "        e = Z*f/(Z-f) # The true focused distance\n",
    "        self.characteristic_ray_center.set_data([Z, 0, -self.neg_x_lim], [A, A, A-self.neg_x_lim*A/f])\n",
    "        self.characteristic_ray_focus.set_data([Z, -self.neg_x_lim], [A, A-(Z+self.neg_x_lim)*A/Z])\n",
    "    \n",
    "    def clear_characteristic_rays(self):\n",
    "        self.characteristic_rays.set_data([], []) \n",
    "        \n",
    "    def draw_ray_bundle(self, Z, A, L):\n",
    "        self.aperture_top.set_data([0, 0], [L/2, self.max_A])\n",
    "        self.aperture_bot.set_data([0, 0], [-L/2, -self.max_A])\n",
    "        f = self.focal_length\n",
    "        e_true = Z*f/(Z-f) # true focused distance = horizontal poisiton of focus point\n",
    "        a_true = -A/Z*e_true# vertical position of focus point\n",
    "        e = self.sensor_distance\n",
    "   \n",
    "        self.ray_bundle.set_verts(np.array([[[Z, A], [0, L/2], [-e, L/2-e*(L/2-a_true)/e_true], \n",
    "                                             [-e, -L/2-e*(-L/2-a_true)/e_true],[0, -L/2], [Z, A]]]))\n",
    "    \n",
    "    def draw_blur_circle_derivation(self, Z, A, L):\n",
    "        f = self.focal_length\n",
    "        e_true = Z*f/(Z-f) # true focused distance = horizontal poisiton of focus point\n",
    "        a_true = -A/Z*e_true# vertical position of focus point\n",
    "        e = self.sensor_distance\n",
    "        \n",
    "        if e_true < e:   \n",
    "            # Double triangle\n",
    "            self.blur_circle_deriv.set_data([0, -e, -e, 0, 0], \n",
    "                                            [L/2, L/2-e*(L/2-a_true)/e_true, -e*A/Z, 0, L/2])\n",
    "        else:\n",
    "            # Single triangle\n",
    "            self.blur_circle_deriv.set_data([-e, -e, -e_true, 0, 0, -e], \n",
    "                                            [-e*A/Z, L/2-e*(L/2-a_true)/e_true, a_true, 0, L/2, L/2-e*(L/2-a_true)/e_true])\n",
    "        \n",
    "    def draw_thin_lens_equation_derivation(self, f, Z, A):\n",
    "        self.focus(Z)\n",
    "        self.draw_characteristic_rays(Z, A)\n",
    "        e = self.sensor_distance\n",
    "        self.thin_lens_deriv_1.set_data([Z, Z, -e, -e, Z], [A, 0, 0, -e*A/Z, A])\n",
    "        self.thin_lens_deriv_2.set_data([0, 0, -e, -e, 0], [A, 0, 0, -e*A/Z, A])\n",
    "        \n",
    "derivation_schema = ThinLensSchema()\n",
    "\n",
    "def plotThinLensEquation(A, Z, f, e, L):\n",
    "    derivation_schema.set_focal_length(f)\n",
    "    #derivation_schema.focus(Z)\n",
    "    derivation_schema.set_sensor_distance(e)\n",
    "    derivation_schema.draw_house(Z, A)\n",
    "    derivation_schema.draw_characteristic_rays(Z, A)\n",
    "    derivation_schema.draw_ray_bundle(Z, A, L)\n",
    "    derivation_schema.draw_blur_circle_derivation(Z, A, L)\n",
    "\n",
    "A_widget = FloatSlider(5, min=derivation_schema.min_A, max=derivation_schema.max_A)\n",
    "Z_widget = FloatSlider(10, min=derivation_schema.min_Z, max=derivation_schema.max_Z)\n",
    "f_widget = FloatSlider(5, min=derivation_schema.min_f, max=derivation_schema.max_f)      \n",
    "e_widget = FloatSlider(5, min=2*derivation_schema.min_f, max=2*derivation_schema.max_f)     \n",
    "L_widget = FloatSlider(5, min=1, max=20)     \n",
    "\n",
    "interact(plotThinLensEquation, A=A_widget, Z=Z_widget, f=f_widget, e=e_widget, L=L_widget);"
   ]
  },
  {
   "cell_type": "markdown",
   "metadata": {},
   "source": [
    "\n",
    "### Aperture & Blur Circle\n",
    "\n",
    "### From the Thin Lens Equation to the Pinhole Camera Model"
   ]
  }
 ],
 "metadata": {
  "kernelspec": {
   "display_name": "Python 3",
   "language": "python",
   "name": "python3"
  },
  "language_info": {
   "codemirror_mode": {
    "name": "ipython",
    "version": 3
   },
   "file_extension": ".py",
   "mimetype": "text/x-python",
   "name": "python",
   "nbconvert_exporter": "python",
   "pygments_lexer": "ipython3",
   "version": "3.8.5"
  }
 },
 "nbformat": 4,
 "nbformat_minor": 2
}
