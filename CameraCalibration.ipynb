{
 "cells": [
  {
   "cell_type": "code",
   "execution_count": 1,
   "id": "absolute-scope",
   "metadata": {},
   "outputs": [],
   "source": [
    "import numpy as np\n",
    "import cv2\n",
    "import matplotlib.pyplot as plt\n",
    "import glob"
   ]
  },
  {
   "cell_type": "markdown",
   "id": "considered-magnet",
   "metadata": {},
   "source": [
    "# Camera Calibration and Undistorting Images\n",
    "In this notebook we are going to calibrate a monocular camera (i.e. estimate the camera matrix and distortion parameters) and use the calibration to undistort an image. We will start by using the standard OpenCV functions first and later implement the calibration and undistortion form scratch using numpy and scipy.\n",
    "## Camera Calibration using OpenCV\n",
    "I have printed out a [chessboard pattern](https://github.com/opencv/opencv/blob/master/doc/pattern.png) and took pictures of it using my phone's camera. For efficiency reasons I scaled down the images by a factor of 2. We will follow the [official OpenCV tutorial on camera calibration](https://docs.opencv.org/master/dc/dbb/tutorial_py_calibration.html).\n",
    "<img src=\"data/IMG_1239.jpg\" alt=\"drawing\" width=\"30%\"/>"
   ]
  },
  {
   "cell_type": "code",
   "execution_count": null,
   "id": "prescription-single",
   "metadata": {},
   "outputs": [],
   "source": [
    "# Extract circle centers for all images. This might take a while...\n",
    "image_files = glob.glob('data/*.jpg')\n",
    "\n",
    "grid_size = 25 # mm\n",
    "grid_shape = (9,6)\n",
    "\n",
    "image_corners = np.zeros((0, grid_shape[0]*grid_shape[1] ,2))\n",
    "chessboard_positions = np.zeros((grid_shape[0]*grid_shape[1],3))\n",
    "chessboard_positions[:,:2] = np.mgrid[0:grid_shape[0],0:grid_shape[1]].T.reshape(-1,2)\n",
    "chessboard_positions *= grid_size\n",
    "image_shape = np.array([])\n",
    "\n",
    "for file in image_files:\n",
    "    img = cv2.cvtColor(cv2.imread(file), cv2.COLOR_BGR2GRAY)\n",
    "    image_shape = img.shape\n",
    "    ret, corners = cv2.findChessboardCorners(img, grid_shape)\n",
    "    if ret:\n",
    "        image_corners = np.append(image_corners, np.array(corners).reshape(1, -1, 2), axis=0)\n",
    "    else:\n",
    "        print(f\"No chessboard detected in image {file}\")\n",
    "print(f\"Processed {len(image_files)} images and found {image_corners.shape[0]} chessboards.\")"
   ]
  },
  {
   "cell_type": "code",
   "execution_count": null,
   "id": "alpine-pacific",
   "metadata": {},
   "outputs": [],
   "source": [
    "def calibrate_camera_openCV():\n",
    "    object_points = np.tile(chessboard_positions, (image_corners.shape[0], 1, 1))\n",
    "    ret, mtx, dist, rvecs, tvecs = cv2.calibrateCamera(object_points.astype(np.float32), image_corners.astype(np.float32), image_shape[::-1], None, None)\n",
    "    return mtx, dist[0]\n",
    "\n",
    "camera_mat_cv, dist_cv = calibrate_camera_openCV()\n",
    "print(\"Camera matrix returned by OpenCV:\")\n",
    "with np.printoptions(suppress=True, precision=2):\n",
    "    print(camera_mat_cv)\n",
    "print(\"Distortion coefficients returned by OpenCV:\")\n",
    "print(f\"k1: {dist_cv[0]:+.3e}; \\tk2: {dist_cv[1]:+.3e}; \\tp1: {dist_cv[2]:+.3e}; \\tp2: {dist_cv[3]:+.3e}\")"
   ]
  }
 ],
 "metadata": {
  "kernelspec": {
   "display_name": "Python 3",
   "language": "python",
   "name": "python3"
  },
  "language_info": {
   "codemirror_mode": {
    "name": "ipython",
    "version": 3
   },
   "file_extension": ".py",
   "mimetype": "text/x-python",
   "name": "python",
   "nbconvert_exporter": "python",
   "pygments_lexer": "ipython3",
   "version": "3.8.5"
  }
 },
 "nbformat": 4,
 "nbformat_minor": 5
}
